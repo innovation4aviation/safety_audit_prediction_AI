{
 "cells": [
  {
   "cell_type": "code",
   "execution_count": 1,
   "metadata": {},
   "outputs": [],
   "source": [
    "from sklearn.linear_model import LinearRegression\n",
    "import numpy as np\n",
    "import pandas as pd"
   ]
  },
  {
   "cell_type": "code",
   "execution_count": 2,
   "metadata": {},
   "outputs": [],
   "source": [
    "#load training data\n",
    "train_input_temp2 = pd.read_csv('EI_training_input.csv',header=None)\n",
    "#train_output_temp = pd.read_csv('EI_training_output_data.csv',header=None)\n",
    "train_output_temp2 = pd.read_csv('EI_training_output.csv',header=None)\n",
    "\n",
    "train_application_temp = pd.read_csv('EI_application_input.csv',header=None)"
   ]
  },
  {
   "cell_type": "code",
   "execution_count": 3,
   "metadata": {},
   "outputs": [],
   "source": [
    "train_input=np.array(train_input_temp2)\n",
    "train_application=np.array(train_application_temp)\n",
    "#train_input"
   ]
  },
  {
   "cell_type": "code",
   "execution_count": 4,
   "metadata": {},
   "outputs": [
    {
     "data": {
      "text/plain": [
       "array([[0., 0., 1.],\n",
       "       [0., 0., 1.]])"
      ]
     },
     "execution_count": 4,
     "metadata": {},
     "output_type": "execute_result"
    }
   ],
   "source": [
    "train_output=np.array(train_output_temp2)#\n",
    "train_output[[1,5],:]"
   ]
  },
  {
   "cell_type": "code",
   "execution_count": 5,
   "metadata": {},
   "outputs": [],
   "source": [
    "model = LinearRegression().fit(train_input,train_output)"
   ]
  },
  {
   "cell_type": "code",
   "execution_count": 6,
   "metadata": {},
   "outputs": [
    {
     "data": {
      "text/plain": [
       "0.3582154196428378"
      ]
     },
     "execution_count": 6,
     "metadata": {},
     "output_type": "execute_result"
    }
   ],
   "source": [
    "r_sq = model.score(train_input,train_output)\n",
    "r_sq"
   ]
  },
  {
   "cell_type": "code",
   "execution_count": 7,
   "metadata": {},
   "outputs": [
    {
     "data": {
      "text/plain": [
       "array([[ 0.01704996,  0.83135543,  0.15159461],\n",
       "       [ 0.19693879,  0.1674611 ,  0.6356001 ],\n",
       "       [ 0.72486261,  0.46416883, -0.18903144],\n",
       "       [ 0.19693879,  0.1674611 ,  0.6356001 ],\n",
       "       [ 0.59104897,  0.14386116,  0.26508986],\n",
       "       [ 0.04956386,  0.76200686,  0.18842928],\n",
       "       [-0.1580099 ,  0.44681825,  0.71119166],\n",
       "       [-0.08123678,  0.68437069,  0.39686609],\n",
       "       [ 0.36547362,  0.11428352,  0.52024285],\n",
       "       [ 0.00831764,  0.69777734,  0.29390502],\n",
       "       [ 0.33295973,  0.18363209,  0.48340818],\n",
       "       [ 0.14433857,  0.71394833,  0.1417131 ],\n",
       "       [ 0.46376036,  0.26126826,  0.27497137],\n",
       "       [ 0.14433857,  0.71394833,  0.1417131 ],\n",
       "       [ 0.59104897,  0.14386116,  0.26508986],\n",
       "       [ 0.17685247,  0.64459976,  0.17854777],\n",
       "       [ 0.01704996,  0.83135543,  0.15159461],\n",
       "       [ 0.14433857,  0.71394833,  0.1417131 ],\n",
       "       [ 0.72486261,  0.46416883, -0.18903144],\n",
       "       [-0.54338776,  0.60399627,  0.93939149],\n",
       "       [ 0.01704996,  0.83135543,  0.15159461],\n",
       "       [ 0.42251414,  0.19703875,  0.38044711],\n",
       "       [ 0.72486261,  0.46416883, -0.18903144],\n",
       "       [-0.12549601,  0.37746968,  0.74802633],\n",
       "       [ 0.01052493,  0.39364066,  0.59583441],\n",
       "       [ 0.72486261,  0.46416883, -0.18903144],\n",
       "       [ 0.29823853,  0.55711734,  0.14464413],\n",
       "       [ 0.6300879 ,  0.51222736, -0.14231526],\n",
       "       [ 0.46155307,  0.56540494, -0.02695801],\n",
       "       [ 0.00831764,  0.69777734,  0.29390502],\n",
       "       [ 0.16442489,  0.23680967,  0.59876543],\n",
       "       [ 0.14433857,  0.71394833,  0.1417131 ],\n",
       "       [-0.11676368,  0.51104776,  0.60571592],\n",
       "       [ 0.01052493,  0.39364066,  0.59583441],\n",
       "       [ 0.01052493,  0.39364066,  0.59583441],\n",
       "       [-0.11676368,  0.51104776,  0.60571592],\n",
       "       [ 0.04303883,  0.32429209,  0.63266908],\n",
       "       [ 0.72486261,  0.46416883, -0.18903144],\n",
       "       [ 0.01704996,  0.83135543,  0.15159461],\n",
       "       [ 0.06965018,  0.2848682 ,  0.64548161],\n",
       "       [ 0.14433857,  0.71394833,  0.1417131 ],\n",
       "       [ 0.01704996,  0.83135543,  0.15159461],\n",
       "       [ 0.59104897,  0.14386116,  0.26508986],\n",
       "       [ 0.01704996,  0.83135543,  0.15159461]])"
      ]
     },
     "execution_count": 7,
     "metadata": {},
     "output_type": "execute_result"
    }
   ],
   "source": [
    "y_pred = model.predict(train_input)\n",
    "y_appl = model.predict(train_application)\n",
    "y_pred"
   ]
  },
  {
   "cell_type": "code",
   "execution_count": 8,
   "metadata": {},
   "outputs": [
    {
     "data": {
      "text/plain": [
       "array([1, 2, 0, 2, 0, 1, 2, 1, 2, 1, 2, 1, 0, 1, 0, 1, 1, 1, 0, 2, 1, 0,\n",
       "       0, 2, 2, 0, 1, 0, 1, 1, 2, 1, 2, 2, 2, 2, 2, 0, 1, 2, 1, 1, 0, 1])"
      ]
     },
     "execution_count": 8,
     "metadata": {},
     "output_type": "execute_result"
    }
   ],
   "source": [
    "result      = y_pred.argmax(axis=1).astype(int)\n",
    "result_appl = y_appl.argmax(axis=1).astype(int)\n",
    "result"
   ]
  },
  {
   "cell_type": "code",
   "execution_count": 9,
   "metadata": {},
   "outputs": [
    {
     "data": {
      "text/plain": [
       "array([1, 2, 2, 0, 1, 1, 1, 1, 1, 0, 0, 0])"
      ]
     },
     "execution_count": 9,
     "metadata": {},
     "output_type": "execute_result"
    }
   ],
   "source": [
    "result_appl"
   ]
  },
  {
   "cell_type": "code",
   "execution_count": 10,
   "metadata": {},
   "outputs": [],
   "source": [
    "output=train_output.argmax(axis=1).astype(int)"
   ]
  },
  {
   "cell_type": "code",
   "execution_count": 11,
   "metadata": {},
   "outputs": [
    {
     "data": {
      "text/plain": [
       "array([ 0,  0,  0,  0, -1, -1,  0,  0,  2,  0,  0,  0, -1,  0, -1,  0,  0,\n",
       "        0,  0,  0,  0,  0,  0,  0,  0,  0,  0,  0,  0,  0,  1, -1,  0,  0,\n",
       "        0,  1,  1,  0,  0,  0,  0,  0,  0,  0])"
      ]
     },
     "execution_count": 11,
     "metadata": {},
     "output_type": "execute_result"
    }
   ],
   "source": [
    "diff=result-output\n",
    "diff"
   ]
  },
  {
   "cell_type": "code",
   "execution_count": 12,
   "metadata": {},
   "outputs": [
    {
     "name": "stdout",
     "output_type": "stream",
     "text": [
      "9  over 44  samples\n"
     ]
    }
   ],
   "source": [
    "print(np.count_nonzero(diff),' over', len(diff),' samples')"
   ]
  },
  {
   "cell_type": "code",
   "execution_count": null,
   "metadata": {},
   "outputs": [],
   "source": []
  }
 ],
 "metadata": {
  "kernelspec": {
   "display_name": "Python 3",
   "language": "python",
   "name": "python3"
  },
  "language_info": {
   "codemirror_mode": {
    "name": "ipython",
    "version": 3
   },
   "file_extension": ".py",
   "mimetype": "text/x-python",
   "name": "python",
   "nbconvert_exporter": "python",
   "pygments_lexer": "ipython3",
   "version": "3.6.5"
  }
 },
 "nbformat": 4,
 "nbformat_minor": 2
}
